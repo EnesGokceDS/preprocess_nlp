{
 "cells": [
  {
   "cell_type": "markdown",
   "metadata": {},
   "source": [
    "#### Imports"
   ]
  },
  {
   "cell_type": "code",
   "execution_count": null,
   "metadata": {},
   "outputs": [],
   "source": [
    "import pandas as pd"
   ]
  },
  {
   "cell_type": "markdown",
   "metadata": {},
   "source": [
    "#### Library built"
   ]
  },
  {
   "cell_type": "code",
   "execution_count": null,
   "metadata": {},
   "outputs": [],
   "source": [
    "import gensim\n",
    "import numpy as np\n",
    "from itertools import chain\n",
    "from gensim.models import KeyedVectors\n",
    "from gensim.scripts.glove2word2vec import glove2word2vec\n",
    "from sklearn.feature_extraction.text import CountVectorizer\n",
    "from sklearn.feature_extraction.text import TfidfVectorizer\n",
    "\n",
    "\n",
    "\n",
    "# ------------------------ Count Vectorizer ------------------------\n",
    "def custom_tokenizer(para):\n",
    "    words = list()\n",
    "    for sent in para.split(' . '):\n",
    "        words.append(sent.split())\n",
    "    return list(chain(*words))\n",
    "\n",
    "\n",
    "def count_vectorizer(sentences, params={}):\n",
    "    default_params = {'strip_accents': None, \n",
    "                    'lowercase': True,\n",
    "                    'preprocessor': None, \n",
    "                    'tokenizer': None, \n",
    "                    'stop_words': None, \n",
    "                    'ngram_range': (1, 1), \n",
    "                    'analyzer': 'word', \n",
    "                    'max_df': 1.0, \n",
    "                    'min_df': 1, \n",
    "                    'max_features': None, \n",
    "                    'vocabulary': None}\n",
    "    default_params.update(params)\n",
    "    \n",
    "    cv = CountVectorizer(sentences, **default_params)\n",
    "    cv_trans_sent = cv.fit_transform(sentences)\n",
    "    \n",
    "    return cv, cv_trans_sent\n",
    "\n",
    "\n",
    "# ------------------------ TF-IDF ------------------------\n",
    "def tfidf_vectorizer(sentences, params={}):\n",
    "    default_params = {'smooth_idf': True,\n",
    "                    'use_idf': True,\n",
    "                    'strip_accents': None, \n",
    "                    'lowercase': True,\n",
    "                    'preprocessor': None, \n",
    "                    'tokenizer': None, \n",
    "                    'stop_words': None, \n",
    "                    'ngram_range': (1, 1), \n",
    "                    'analyzer': 'word', \n",
    "                    'max_df': 1.0, \n",
    "                    'min_df': 1, \n",
    "                    'max_features': None, \n",
    "                    'vocabulary': None}\n",
    "    default_params.update(params)\n",
    "    \n",
    "    tf = TfidfVectorizer(**default_params)\n",
    "    tf_trans_sent = tf.fit_transform(sentences)\n",
    "    \n",
    "    return tf, tf_trans_sent\n",
    "\n",
    "\n",
    "def top_words_tfidf(tf_obj, doc, topn=20):  \n",
    "    # Function code credits: https://kavita-ganesan.com/extracting-keywords-from-text-tfidf/\n",
    "    tf_idf_vector = tf_obj.transform(doc)\n",
    "    tuples = zip(tf_idf_vector.tocoo().col, tf_idf_vector.tocoo().data)\n",
    "    sorted_items = sorted(tuples, key=lambda x: (x[1], x[0]), reverse=True)\n",
    "    \n",
    "    feature_names = tf_obj.get_feature_names()\n",
    "    \n",
    "    #use only topn items from vector\n",
    "    sorted_items = sorted_items[:topn]\n",
    "    score_vals = []\n",
    "    feature_vals = []\n",
    "    \n",
    "    # word index and corresponding tf-idf score\n",
    "    for idx, score in sorted_items:\n",
    "        \n",
    "        #keep track of feature name and its corresponding score\n",
    "        score_vals.append(round(score, 3))\n",
    "        feature_vals.append(feature_names[idx])\n",
    " \n",
    "    #create a tuples of feature,score\n",
    "    results= {}\n",
    "    for idx in range(len(feature_vals)):\n",
    "        results[feature_vals[idx]]=score_vals[idx]\n",
    "\n",
    "    return results\n",
    "\n",
    "\n",
    "# ------------------------ Word2Vec ------------------------\n",
    "def load_word2vec(path=None):\n",
    "    try:\n",
    "        model = KeyedVectors.load_word2vec_format(path, binary=True)\n",
    "        print(\"Model loaded successfully!\")\n",
    "        return model\n",
    "    except Exception as e:\n",
    "        print(\"Please download the dataset from https://drive.google.com/file/d/0B7XkCwpI5KDYNlNUTTlSS21pQmM/edit\")\n",
    "        print(\"-----!! MODEL NOT LOADED !!-----\")\n",
    "        print('\\n\\n\\nError:\\t', e)\n",
    "\n",
    "        \n",
    "def train_word2vec(documents, params={}):\n",
    "    default_params = {'size': 100,\n",
    "                     'window': 10,\n",
    "                     'min_count': 1, \n",
    "                     'workers': 8}\n",
    "    default_params.update(params)\n",
    "    model = gensim.models.Word2Vec (documents, **default_params)\n",
    "    model.train(documents,total_examples=len(documents),epochs=50)\n",
    "    \n",
    "    return model\n",
    "\n",
    "\n",
    "# ------------------------ GloVe ------------------------\n",
    "def load_glove(path=None):\n",
    "    try:\n",
    "        temp = glove2word2vec(path, path+'.word2vec')\n",
    "    except Exception as e:\n",
    "        print(\"Please download the glove.6B.zip dataset from: https://nlp.stanford.edu/projects/glove/\")\n",
    "        print(\"-----!! MODEL NOT LOADED !!-----\")\n",
    "        print('\\n\\n\\nError:\\t', e)\n",
    "        return None\n",
    "    \n",
    "    model = KeyedVectors.load_word2vec_format(path+'.word2vec', binary=False)\n",
    "    print(\"Model loaded successfully!\")\n",
    "    return model\n",
    "\n",
    "\n",
    "# ------------------------ Word2Vec & GloVe ------------------------\n",
    "def get_most_similar(model, pos_word, neg_word=None, topn=1):\n",
    "    return model.wv.most_similar(positive=pos_word, negative=neg_word, topn=topn)\n",
    "\n",
    "\n",
    "def get_similarity_score(model, w1, w2):\n",
    "    return model.wv.similarity(w1, w2)\n",
    "\n",
    "\n",
    "def get_sentence_wise_vector(model, docs):\n",
    "    # Initialize dictionary with existing vocab\n",
    "    w2v_words = {}\n",
    "    for ele in list(model.wv.vocab):\n",
    "        w2v_words[ele] = 0\n",
    "    \n",
    "    sent_vectors = []; # the avg-w2v for each sentence/review is stored in this list\n",
    "    for sent in docs: # for each review/sentence\n",
    "        sent_vec = np.zeros(model.wv[list(model.wv.vocab.keys())[0]].shape) # as word vectors are of zero length\n",
    "        cnt_words =0; # num of words with a valid vector in the sentence/review\n",
    "        for word in sent: # for each word in a review/sentence\n",
    "            if word in w2v_words:\n",
    "                vec = model.wv[word]\n",
    "                sent_vec += vec\n",
    "                cnt_words += 1\n",
    "        if cnt_words != 0:\n",
    "            sent_vec /= cnt_words\n",
    "        sent_vectors.append(sent_vec)\n",
    "    \n",
    "    return sent_vectors"
   ]
  },
  {
   "cell_type": "markdown",
   "metadata": {},
   "source": [
    "#### Read Data"
   ]
  },
  {
   "cell_type": "code",
   "execution_count": null,
   "metadata": {},
   "outputs": [],
   "source": [
    "df = pd.read_excel(\"../Data/Market_Manipulation/2_enron_data_with_stop.xlsx\", nrows=20000)\n",
    "df.dropna(inplace=True)\n",
    "df.head()"
   ]
  },
  {
   "cell_type": "markdown",
   "metadata": {},
   "source": [
    "#### Count Vectorizer"
   ]
  },
  {
   "cell_type": "code",
   "execution_count": null,
   "metadata": {},
   "outputs": [],
   "source": [
    "cv_obj, cv_sent = count_vectorizer(df['processed_text'].tolist(), {'tokenizer': custom_tokenizer})"
   ]
  },
  {
   "cell_type": "markdown",
   "metadata": {},
   "source": [
    "#### TF-IDF"
   ]
  },
  {
   "cell_type": "code",
   "execution_count": null,
   "metadata": {},
   "outputs": [],
   "source": [
    "# Sample Input\n",
    "doc=[\"this is to test the native vectorization technique and some random words here and there\"]"
   ]
  },
  {
   "cell_type": "code",
   "execution_count": null,
   "metadata": {},
   "outputs": [],
   "source": [
    "tf_obj, tf_sent = tfidf_vectorizer(df['processed_text'].tolist(), {'tokenizer': custom_tokenizer})"
   ]
  },
  {
   "cell_type": "code",
   "execution_count": null,
   "metadata": {},
   "outputs": [],
   "source": [
    "# Top Words\n",
    "top_words_tfidf(tf_obj, doc, 4)"
   ]
  },
  {
   "cell_type": "markdown",
   "metadata": {},
   "source": [
    "#### Word2Vec"
   ]
  },
  {
   "cell_type": "code",
   "execution_count": null,
   "metadata": {},
   "outputs": [],
   "source": [
    "# Sample doc\n",
    "doc=[\"this is to test the native vetorization\".split(), \"technique and some random words here and there\".split()]"
   ]
  },
  {
   "cell_type": "code",
   "execution_count": null,
   "metadata": {},
   "outputs": [],
   "source": [
    "# Train Model\n",
    "model = train_word2vec(doc)\n",
    "\n",
    "print(\"Most Similar:\", get_most_similar(model, 'is'))\n",
    "print(\"Similarity Score:\", get_similarity_score(model, 'test', 'is'))"
   ]
  },
  {
   "cell_type": "code",
   "execution_count": null,
   "metadata": {},
   "outputs": [],
   "source": [
    "# Load pretrained model\n",
    "w2v_model = load_word2vec(\"../Data/GoogleNews-vectors-negative300.bin\")\n",
    "\n",
    "print(\"Most Similar:\", get_most_similar(w2v_model, 'is'))\n",
    "print(\"Similarity Score:\", get_similarity_score(w2v_model, 'the', 'was'))"
   ]
  },
  {
   "cell_type": "code",
   "execution_count": null,
   "metadata": {},
   "outputs": [],
   "source": [
    "# Get average of Word2Vec vectors in each sentence, and represent it in one vector\n",
    "sent_wise_vectors = get_sentence_wise_vector(w2v_model, doc)"
   ]
  },
  {
   "cell_type": "markdown",
   "metadata": {},
   "source": [
    "#### GloVe "
   ]
  },
  {
   "cell_type": "code",
   "execution_count": null,
   "metadata": {},
   "outputs": [],
   "source": [
    "# Load pretrained model\n",
    "glove_model = load_glove('../Data/glove.6B/glove.6B.100d.txt')\n",
    "\n",
    "print(\"Most Similar:\", get_most_similar(glove_model, 'is'))\n",
    "print(\"Similarity Score:\", get_similarity_score(glove_model, 'the', 'was'))"
   ]
  },
  {
   "cell_type": "code",
   "execution_count": null,
   "metadata": {},
   "outputs": [],
   "source": [
    "# Get average of GloVe in each sentence, and represent it in one vector\n",
    "sent_wise_vectors_glove = get_sentence_wise_vector(glove_model, doc)"
   ]
  }
 ],
 "metadata": {
  "kernelspec": {
   "display_name": "Python 3",
   "language": "python",
   "name": "python3"
  },
  "language_info": {
   "codemirror_mode": {
    "name": "ipython",
    "version": 3
   },
   "file_extension": ".py",
   "mimetype": "text/x-python",
   "name": "python",
   "nbconvert_exporter": "python",
   "pygments_lexer": "ipython3",
   "version": "3.6.10"
  }
 },
 "nbformat": 4,
 "nbformat_minor": 4
}
