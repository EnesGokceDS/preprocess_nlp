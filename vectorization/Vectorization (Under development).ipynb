{
 "cells": [
  {
   "cell_type": "markdown",
   "metadata": {},
   "source": [
    "#### Imports"
   ]
  },
  {
   "cell_type": "code",
   "execution_count": null,
   "metadata": {},
   "outputs": [],
   "source": [
    "import pandas as pd"
   ]
  },
  {
   "cell_type": "markdown",
   "metadata": {},
   "source": [
    "#### Read Data"
   ]
  },
  {
   "cell_type": "code",
   "execution_count": null,
   "metadata": {},
   "outputs": [],
   "source": [
    "df = pd.read_excel(\"../Data/Market_Manipulation/2_enron_data_with_stop.xlsx\", nrows=20000)\n",
    "df.dropna(inplace=True)\n",
    "df.head()"
   ]
  },
  {
   "cell_type": "markdown",
   "metadata": {},
   "source": [
    "#### Count Vectorizer"
   ]
  },
  {
   "cell_type": "code",
   "execution_count": null,
   "metadata": {},
   "outputs": [],
   "source": [
    "cv_obj, cv_sent = count_vectorizer(df['processed_text'].tolist(), {'tokenizer': custom_tokenizer})"
   ]
  },
  {
   "cell_type": "markdown",
   "metadata": {},
   "source": [
    "#### TF-IDF"
   ]
  },
  {
   "cell_type": "code",
   "execution_count": null,
   "metadata": {},
   "outputs": [],
   "source": [
    "# Sample Input\n",
    "doc=[\"this is to test the native vectorization technique and some random words here and there\"]"
   ]
  },
  {
   "cell_type": "code",
   "execution_count": null,
   "metadata": {},
   "outputs": [],
   "source": [
    "tf_obj, tf_sent = tfidf_vectorizer(df['processed_text'].tolist(), {'tokenizer': custom_tokenizer})"
   ]
  },
  {
   "cell_type": "code",
   "execution_count": null,
   "metadata": {},
   "outputs": [],
   "source": [
    "# Top Words\n",
    "top_words_tfidf(tf_obj, doc, 4)"
   ]
  },
  {
   "cell_type": "markdown",
   "metadata": {},
   "source": [
    "#### Word2Vec"
   ]
  },
  {
   "cell_type": "code",
   "execution_count": null,
   "metadata": {},
   "outputs": [],
   "source": [
    "# Sample doc\n",
    "doc=[\"this is to test the native vetorization\".split(), \"technique and some random words here and there\".split()]"
   ]
  },
  {
   "cell_type": "code",
   "execution_count": null,
   "metadata": {},
   "outputs": [],
   "source": [
    "# Train Model\n",
    "model = train_word2vec(doc)\n",
    "\n",
    "print(\"Most Similar:\", get_most_similar(model, 'is'))\n",
    "print(\"Similarity Score:\", get_similarity_score(model, 'test', 'is'))"
   ]
  },
  {
   "cell_type": "code",
   "execution_count": null,
   "metadata": {},
   "outputs": [],
   "source": [
    "# Load pretrained model\n",
    "w2v_model = load_word2vec(\"../Data/GoogleNews-vectors-negative300.bin\")\n",
    "\n",
    "print(\"Most Similar:\", get_most_similar(w2v_model, 'is'))\n",
    "print(\"Similarity Score:\", get_similarity_score(w2v_model, 'the', 'was'))"
   ]
  },
  {
   "cell_type": "code",
   "execution_count": null,
   "metadata": {},
   "outputs": [],
   "source": [
    "# Get average of Word2Vec vectors in each sentence, and represent it in one vector\n",
    "sent_wise_vectors = get_sentence_wise_vector(w2v_model, doc)"
   ]
  },
  {
   "cell_type": "markdown",
   "metadata": {},
   "source": [
    "#### GloVe "
   ]
  },
  {
   "cell_type": "code",
   "execution_count": null,
   "metadata": {},
   "outputs": [],
   "source": [
    "# Load pretrained model\n",
    "glove_model = load_glove('../Data/glove.6B/glove.6B.100d.txt')\n",
    "\n",
    "print(\"Most Similar:\", get_most_similar(glove_model, 'is'))\n",
    "print(\"Similarity Score:\", get_similarity_score(glove_model, 'the', 'was'))"
   ]
  },
  {
   "cell_type": "code",
   "execution_count": null,
   "metadata": {},
   "outputs": [],
   "source": [
    "# Get average of GloVe in each sentence, and represent it in one vector\n",
    "sent_wise_vectors_glove = get_sentence_wise_vector(glove_model, doc)"
   ]
  }
 ],
 "metadata": {
  "kernelspec": {
   "display_name": "Python 3",
   "language": "python",
   "name": "python3"
  },
  "language_info": {
   "codemirror_mode": {
    "name": "ipython",
    "version": 3
   },
   "file_extension": ".py",
   "mimetype": "text/x-python",
   "name": "python",
   "nbconvert_exporter": "python",
   "pygments_lexer": "ipython3",
   "version": "3.6.10"
  }
 },
 "nbformat": 4,
 "nbformat_minor": 4
}
