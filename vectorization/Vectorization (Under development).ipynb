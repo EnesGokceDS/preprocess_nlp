{
 "cells": [
  {
   "cell_type": "code",
   "execution_count": null,
   "metadata": {},
   "outputs": [],
   "source": [
    "import pandas as pd\n",
    "import numpy as np"
   ]
  },
  {
   "cell_type": "code",
   "execution_count": null,
   "metadata": {},
   "outputs": [],
   "source": [
    "from itertools import chain\n",
    "from sklearn.feature_extraction.text import CountVectorizer\n",
    "from sklearn.feature_extraction.text import TfidfVectorizer\n",
    "\n",
    "\n",
    "def custom_tokenizer(para):\n",
    "    words = list()\n",
    "    for sent in para.split(' . '):\n",
    "        words.append(sent.split())\n",
    "    return list(chain(*words))\n",
    "\n",
    "\n",
    "def count_vectorizer(sentences, params={}):\n",
    "    default_params = {'strip_accents': None, \n",
    "                    'lowercase': True,\n",
    "                    'preprocessor': None, \n",
    "                    'tokenizer': None, \n",
    "                    'stop_words': None, \n",
    "                    'ngram_range': (1, 1), \n",
    "                    'analyzer': 'word', \n",
    "                    'max_df': 1.0, \n",
    "                    'min_df': 1, \n",
    "                    'max_features': None, \n",
    "                    'vocabulary': None}\n",
    "    default_params.update(params)\n",
    "    \n",
    "    cv = CountVectorizer(sentences, **default_params)\n",
    "    cv_trans_sent = cv.fit_transform(sentences)\n",
    "    \n",
    "    return cv, cv_trans_sent\n",
    "\n",
    "\n",
    "def tfidf_vectorizer(sentences, params={}):\n",
    "    default_params = {'smooth_idf': True,\n",
    "                    'use_idf': True,\n",
    "                    'strip_accents': None, \n",
    "                    'lowercase': True,\n",
    "                    'preprocessor': None, \n",
    "                    'tokenizer': None, \n",
    "                    'stop_words': None, \n",
    "                    'ngram_range': (1, 1), \n",
    "                    'analyzer': 'word', \n",
    "                    'max_df': 1.0, \n",
    "                    'min_df': 1, \n",
    "                    'max_features': None, \n",
    "                    'vocabulary': None}\n",
    "    default_params.update(params)\n",
    "    \n",
    "    tf = TfidfVectorizer(**default_params)\n",
    "    tf_trans_sent = tf.fit_transform(sentences)\n",
    "    \n",
    "    return tf, tf_trans_sent\n",
    "\n",
    "\n",
    "def top_words_tfidf(tf_obj, doc, topn=20):  \n",
    "    # Function code credits: https://kavita-ganesan.com/extracting-keywords-from-text-tfidf/\n",
    "    tf_idf_vector = tf_obj.transform(doc)\n",
    "    tuples = zip(tf_idf_vector.tocoo().col, tf_idf_vector.tocoo().data)\n",
    "    sorted_items = sorted(tuples, key=lambda x: (x[1], x[0]), reverse=True)\n",
    "    \n",
    "    feature_names = tf_obj.get_feature_names()\n",
    "    \n",
    "    #use only topn items from vector\n",
    "    sorted_items = sorted_items[:topn]\n",
    "    score_vals = []\n",
    "    feature_vals = []\n",
    "    \n",
    "    # word index and corresponding tf-idf score\n",
    "    for idx, score in sorted_items:\n",
    "        \n",
    "        #keep track of feature name and its corresponding score\n",
    "        score_vals.append(round(score, 3))\n",
    "        feature_vals.append(feature_names[idx])\n",
    " \n",
    "    #create a tuples of feature,score\n",
    "    results= {}\n",
    "    for idx in range(len(feature_vals)):\n",
    "        results[feature_vals[idx]]=score_vals[idx]\n",
    "\n",
    "    return results"
   ]
  },
  {
   "cell_type": "code",
   "execution_count": null,
   "metadata": {},
   "outputs": [],
   "source": [
    "df = pd.read_excel(\"../Data/Market_Manipulation/2_enron_data_with_stop.xlsx\", nrows=200)\n",
    "df.dropna(inplace=True)\n",
    "df.head()"
   ]
  },
  {
   "cell_type": "code",
   "execution_count": null,
   "metadata": {},
   "outputs": [],
   "source": [
    "cv_obj, cv_sent = count_vectorizer(df['processed_text'].tolist(), {'tokenizer': custom_tokenizer})"
   ]
  },
  {
   "cell_type": "code",
   "execution_count": null,
   "metadata": {},
   "outputs": [],
   "source": [
    "tf_obj, tf_sent = tfidf_vectorizer(df['processed_text'].tolist(), {'tokenizer': custom_tokenizer})"
   ]
  },
  {
   "cell_type": "code",
   "execution_count": null,
   "metadata": {},
   "outputs": [],
   "source": [
    "doc=[\"this is to test the native vectorization technique and some random words here and there\"]\n",
    "top_words_tfidf(tf_obj, doc, 4)"
   ]
  }
 ],
 "metadata": {
  "kernelspec": {
   "display_name": "Python 3",
   "language": "python",
   "name": "python3"
  },
  "language_info": {
   "codemirror_mode": {
    "name": "ipython",
    "version": 3
   },
   "file_extension": ".py",
   "mimetype": "text/x-python",
   "name": "python",
   "nbconvert_exporter": "python",
   "pygments_lexer": "ipython3",
   "version": "3.6.10"
  }
 },
 "nbformat": 4,
 "nbformat_minor": 4
}
